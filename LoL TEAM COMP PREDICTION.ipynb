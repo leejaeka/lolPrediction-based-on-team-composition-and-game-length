{
 "cells": [
  {
   "cell_type": "markdown",
   "metadata": {},
   "source": [
    "## Introduction"
   ]
  },
  {
   "cell_type": "markdown",
   "metadata": {},
   "source": [
    "Let's predict who won the match given team composition and how long game played out"
   ]
  },
  {
   "cell_type": "markdown",
   "metadata": {},
   "source": [
    "## Get dataset"
   ]
  },
  {
   "cell_type": "code",
   "execution_count": 188,
   "metadata": {},
   "outputs": [],
   "source": [
    "import pandas as pd\n",
    "df = pd.read_csv(\"games.csv\")"
   ]
  },
  {
   "cell_type": "markdown",
   "metadata": {},
   "source": [
    "Some Setups"
   ]
  },
  {
   "cell_type": "code",
   "execution_count": 189,
   "metadata": {},
   "outputs": [
    {
     "name": "stdout",
     "output_type": "stream",
     "text": [
      "The tensorboard extension is already loaded. To reload it, use:\n",
      "  %reload_ext tensorboard\n"
     ]
    }
   ],
   "source": [
    "# Python ≥3.5 is required\n",
    "import sys\n",
    "assert sys.version_info >= (3, 5)\n",
    "\n",
    "# Scikit-Learn ≥0.20 is required\n",
    "import sklearn\n",
    "assert sklearn.__version__ >= \"0.20\"\n",
    "\n",
    "try:\n",
    "    # %tensorflow_version only exists in Colab.\n",
    "    %tensorflow_version 2.x\n",
    "except Exception:\n",
    "    pass\n",
    "\n",
    "# TensorFlow ≥2.0 is required\n",
    "import tensorflow as tf\n",
    "from tensorflow import keras\n",
    "assert tf.__version__ >= \"2.0\"\n",
    "\n",
    "%load_ext tensorboard\n",
    "\n",
    "# Common imports\n",
    "import numpy as np\n",
    "import os\n",
    "\n",
    "# to make this notebook's output stable across runs\n",
    "np.random.seed(42)\n",
    "\n",
    "# To plot pretty figures\n",
    "%matplotlib inline\n",
    "import matplotlib as mpl\n",
    "import matplotlib.pyplot as plt\n",
    "mpl.rc('axes', labelsize=14)\n",
    "mpl.rc('xtick', labelsize=12)\n",
    "mpl.rc('ytick', labelsize=12)\n",
    "\n",
    "# Where to save the figures\n",
    "PROJECT_ROOT_DIR = \".\"\n",
    "CHAPTER_ID = \"deep\"\n",
    "IMAGES_PATH = os.path.join(PROJECT_ROOT_DIR, \"images\", CHAPTER_ID)\n",
    "os.makedirs(IMAGES_PATH, exist_ok=True)\n",
    "\n",
    "def save_fig(fig_id, tight_layout=True, fig_extension=\"png\", resolution=300):\n",
    "    path = os.path.join(IMAGES_PATH, fig_id + \".\" + fig_extension)\n",
    "    print(\"Saving figure\", fig_id)\n",
    "    if tight_layout:\n",
    "        plt.tight_layout()\n",
    "    plt.savefig(path, format=fig_extension, dpi=resolution)"
   ]
  },
  {
   "cell_type": "code",
   "execution_count": 190,
   "metadata": {},
   "outputs": [
    {
     "data": {
      "text/html": [
       "<div>\n",
       "<style scoped>\n",
       "    .dataframe tbody tr th:only-of-type {\n",
       "        vertical-align: middle;\n",
       "    }\n",
       "\n",
       "    .dataframe tbody tr th {\n",
       "        vertical-align: top;\n",
       "    }\n",
       "\n",
       "    .dataframe thead th {\n",
       "        text-align: right;\n",
       "    }\n",
       "</style>\n",
       "<table border=\"1\" class=\"dataframe\">\n",
       "  <thead>\n",
       "    <tr style=\"text-align: right;\">\n",
       "      <th></th>\n",
       "      <th>game_length</th>\n",
       "      <th>mmr</th>\n",
       "      <th>result</th>\n",
       "      <th>server</th>\n",
       "      <th>team_1</th>\n",
       "      <th>team_2</th>\n",
       "      <th>timestamp</th>\n",
       "    </tr>\n",
       "  </thead>\n",
       "  <tbody>\n",
       "    <tr>\n",
       "      <th>0</th>\n",
       "      <td>25m 38s</td>\n",
       "      <td>NaN</td>\n",
       "      <td>Victory</td>\n",
       "      <td>na</td>\n",
       "      <td>Riven,Nidalee,Galio,Jhin,Pantheon</td>\n",
       "      <td>Camille,Olaf,Cassiopeia,Ezreal,Alistar</td>\n",
       "      <td>2020-10-13 09:31:42</td>\n",
       "    </tr>\n",
       "    <tr>\n",
       "      <th>1</th>\n",
       "      <td>25m 38s</td>\n",
       "      <td>NaN</td>\n",
       "      <td>Defeat</td>\n",
       "      <td>na</td>\n",
       "      <td>Teemo,Nidalee,Lucian,Caitlyn,Senna</td>\n",
       "      <td>Irelia,Hecarim,Cassiopeia,Jinx,Lulu</td>\n",
       "      <td>2020-10-13 06:00:17</td>\n",
       "    </tr>\n",
       "    <tr>\n",
       "      <th>2</th>\n",
       "      <td>25m 38s</td>\n",
       "      <td>NaN</td>\n",
       "      <td>Defeat</td>\n",
       "      <td>na</td>\n",
       "      <td>Malphite,Olaf,Taliyah,Ezreal,Alistar</td>\n",
       "      <td>Sylas,Lillia,Lucian,Senna,Pantheon</td>\n",
       "      <td>2020-10-13 05:06:45</td>\n",
       "    </tr>\n",
       "    <tr>\n",
       "      <th>3</th>\n",
       "      <td>25m 38s</td>\n",
       "      <td>NaN</td>\n",
       "      <td>Defeat</td>\n",
       "      <td>na</td>\n",
       "      <td>Neeko,Shen,Orianna,Kai'Sa,Nautilus</td>\n",
       "      <td>Riven,Hecarim,Cassiopeia,Samira,Morgana</td>\n",
       "      <td>2020-10-13 04:28:00</td>\n",
       "    </tr>\n",
       "    <tr>\n",
       "      <th>4</th>\n",
       "      <td>25m 38s</td>\n",
       "      <td>NaN</td>\n",
       "      <td>Defeat</td>\n",
       "      <td>na</td>\n",
       "      <td>Fiora,Nunu &amp; Willump,Irelia,Jhin,Karma</td>\n",
       "      <td>Renekton,Elise,Kled,Jinx,Morgana</td>\n",
       "      <td>2020-10-13 04:00:51</td>\n",
       "    </tr>\n",
       "  </tbody>\n",
       "</table>\n",
       "</div>"
      ],
      "text/plain": [
       "  game_length  mmr   result server                                  team_1  \\\n",
       "0     25m 38s  NaN  Victory     na       Riven,Nidalee,Galio,Jhin,Pantheon   \n",
       "1     25m 38s  NaN   Defeat     na      Teemo,Nidalee,Lucian,Caitlyn,Senna   \n",
       "2     25m 38s  NaN   Defeat     na    Malphite,Olaf,Taliyah,Ezreal,Alistar   \n",
       "3     25m 38s  NaN   Defeat     na      Neeko,Shen,Orianna,Kai'Sa,Nautilus   \n",
       "4     25m 38s  NaN   Defeat     na  Fiora,Nunu & Willump,Irelia,Jhin,Karma   \n",
       "\n",
       "                                    team_2            timestamp  \n",
       "0   Camille,Olaf,Cassiopeia,Ezreal,Alistar  2020-10-13 09:31:42  \n",
       "1      Irelia,Hecarim,Cassiopeia,Jinx,Lulu  2020-10-13 06:00:17  \n",
       "2       Sylas,Lillia,Lucian,Senna,Pantheon  2020-10-13 05:06:45  \n",
       "3  Riven,Hecarim,Cassiopeia,Samira,Morgana  2020-10-13 04:28:00  \n",
       "4         Renekton,Elise,Kled,Jinx,Morgana  2020-10-13 04:00:51  "
      ]
     },
     "execution_count": 190,
     "metadata": {},
     "output_type": "execute_result"
    }
   ],
   "source": [
    "df.head(5)"
   ]
  },
  {
   "cell_type": "code",
   "execution_count": 191,
   "metadata": {
    "scrolled": true
   },
   "outputs": [],
   "source": [
    "temp_df = df[['game_length', 'result', 'team_1', 'team_2']] # Select only interests\n",
    "blue = temp_df['team_1']\n",
    "red = temp_df['team_2']\n",
    "n = len(df)\n",
    "\n",
    "blue_champs = []\n",
    "red_champs = []\n",
    "for i in range(0,n):\n",
    "    blue_champs += [blue[i].split(',')]\n",
    "    red_champs += [red[i].split(',')]\n",
    "    \n",
    "top = []\n",
    "jg = []\n",
    "mid = []\n",
    "adc = []\n",
    "sup = []\n",
    "for i in range(0, n):\n",
    "    top += [blue_champs[i][0]]\n",
    "    jg += [blue_champs[i][1]]\n",
    "    mid += [blue_champs[i][2]]\n",
    "    adc += [blue_champs[i][3]]\n",
    "    sup += [blue_champs[i][4]]\n",
    "    \n",
    "top_2 = []\n",
    "jg_2 = []\n",
    "mid_2 = []\n",
    "adc_2 = []\n",
    "sup_2 = []\n",
    "for i in range(0, n):\n",
    "    top_2 += [red_champs[i][0]]\n",
    "    jg_2 += [red_champs[i][1]]\n",
    "    mid_2 += [red_champs[i][2]]\n",
    "    adc_2 += [red_champs[i][3]]\n",
    "    sup_2 += [red_champs[i][4]]"
   ]
  },
  {
   "cell_type": "code",
   "execution_count": 192,
   "metadata": {},
   "outputs": [],
   "source": [
    "data = temp_df.drop(columns=['team_1','team_2'])\n",
    "# blue team\n",
    "data['top1'] = top\n",
    "data['jg1'] = jg\n",
    "data['mid1'] = mid\n",
    "data['adc1'] = adc\n",
    "data['sup1'] = sup\n",
    "# red team\n",
    "data['top2'] = top_2\n",
    "data['jg2'] = jg_2\n",
    "data['mid2'] = mid_2\n",
    "data['adc2'] = adc_2\n",
    "data['sup2'] = sup_2"
   ]
  },
  {
   "cell_type": "code",
   "execution_count": 193,
   "metadata": {},
   "outputs": [
    {
     "data": {
      "text/html": [
       "<div>\n",
       "<style scoped>\n",
       "    .dataframe tbody tr th:only-of-type {\n",
       "        vertical-align: middle;\n",
       "    }\n",
       "\n",
       "    .dataframe tbody tr th {\n",
       "        vertical-align: top;\n",
       "    }\n",
       "\n",
       "    .dataframe thead th {\n",
       "        text-align: right;\n",
       "    }\n",
       "</style>\n",
       "<table border=\"1\" class=\"dataframe\">\n",
       "  <thead>\n",
       "    <tr style=\"text-align: right;\">\n",
       "      <th></th>\n",
       "      <th>game_length</th>\n",
       "      <th>result</th>\n",
       "      <th>top1</th>\n",
       "      <th>jg1</th>\n",
       "      <th>mid1</th>\n",
       "      <th>adc1</th>\n",
       "      <th>sup1</th>\n",
       "      <th>top2</th>\n",
       "      <th>jg2</th>\n",
       "      <th>mid2</th>\n",
       "      <th>adc2</th>\n",
       "      <th>sup2</th>\n",
       "    </tr>\n",
       "  </thead>\n",
       "  <tbody>\n",
       "    <tr>\n",
       "      <th>0</th>\n",
       "      <td>25m 38s</td>\n",
       "      <td>Victory</td>\n",
       "      <td>Riven</td>\n",
       "      <td>Nidalee</td>\n",
       "      <td>Galio</td>\n",
       "      <td>Jhin</td>\n",
       "      <td>Pantheon</td>\n",
       "      <td>Camille</td>\n",
       "      <td>Olaf</td>\n",
       "      <td>Cassiopeia</td>\n",
       "      <td>Ezreal</td>\n",
       "      <td>Alistar</td>\n",
       "    </tr>\n",
       "    <tr>\n",
       "      <th>1</th>\n",
       "      <td>25m 38s</td>\n",
       "      <td>Defeat</td>\n",
       "      <td>Teemo</td>\n",
       "      <td>Nidalee</td>\n",
       "      <td>Lucian</td>\n",
       "      <td>Caitlyn</td>\n",
       "      <td>Senna</td>\n",
       "      <td>Irelia</td>\n",
       "      <td>Hecarim</td>\n",
       "      <td>Cassiopeia</td>\n",
       "      <td>Jinx</td>\n",
       "      <td>Lulu</td>\n",
       "    </tr>\n",
       "    <tr>\n",
       "      <th>2</th>\n",
       "      <td>25m 38s</td>\n",
       "      <td>Defeat</td>\n",
       "      <td>Malphite</td>\n",
       "      <td>Olaf</td>\n",
       "      <td>Taliyah</td>\n",
       "      <td>Ezreal</td>\n",
       "      <td>Alistar</td>\n",
       "      <td>Sylas</td>\n",
       "      <td>Lillia</td>\n",
       "      <td>Lucian</td>\n",
       "      <td>Senna</td>\n",
       "      <td>Pantheon</td>\n",
       "    </tr>\n",
       "    <tr>\n",
       "      <th>3</th>\n",
       "      <td>25m 38s</td>\n",
       "      <td>Defeat</td>\n",
       "      <td>Neeko</td>\n",
       "      <td>Shen</td>\n",
       "      <td>Orianna</td>\n",
       "      <td>Kai'Sa</td>\n",
       "      <td>Nautilus</td>\n",
       "      <td>Riven</td>\n",
       "      <td>Hecarim</td>\n",
       "      <td>Cassiopeia</td>\n",
       "      <td>Samira</td>\n",
       "      <td>Morgana</td>\n",
       "    </tr>\n",
       "    <tr>\n",
       "      <th>4</th>\n",
       "      <td>25m 38s</td>\n",
       "      <td>Defeat</td>\n",
       "      <td>Fiora</td>\n",
       "      <td>Nunu &amp; Willump</td>\n",
       "      <td>Irelia</td>\n",
       "      <td>Jhin</td>\n",
       "      <td>Karma</td>\n",
       "      <td>Renekton</td>\n",
       "      <td>Elise</td>\n",
       "      <td>Kled</td>\n",
       "      <td>Jinx</td>\n",
       "      <td>Morgana</td>\n",
       "    </tr>\n",
       "    <tr>\n",
       "      <th>5</th>\n",
       "      <td>25m 38s</td>\n",
       "      <td>Defeat</td>\n",
       "      <td>Irelia</td>\n",
       "      <td>Karthus</td>\n",
       "      <td>Sylas</td>\n",
       "      <td>Samira</td>\n",
       "      <td>Nautilus</td>\n",
       "      <td>Riven</td>\n",
       "      <td>Kayn</td>\n",
       "      <td>Akali</td>\n",
       "      <td>Miss Fortune</td>\n",
       "      <td>Galio</td>\n",
       "    </tr>\n",
       "    <tr>\n",
       "      <th>6</th>\n",
       "      <td>25m 38s</td>\n",
       "      <td>Defeat</td>\n",
       "      <td>Galio</td>\n",
       "      <td>Kindred</td>\n",
       "      <td>Syndra</td>\n",
       "      <td>Ezreal</td>\n",
       "      <td>Blitzcrank</td>\n",
       "      <td>Camille</td>\n",
       "      <td>Fiddlesticks</td>\n",
       "      <td>Twisted Fate</td>\n",
       "      <td>Jhin</td>\n",
       "      <td>Morgana</td>\n",
       "    </tr>\n",
       "    <tr>\n",
       "      <th>7</th>\n",
       "      <td>25m 38s</td>\n",
       "      <td>Defeat</td>\n",
       "      <td>Poppy</td>\n",
       "      <td>Ekko</td>\n",
       "      <td>Sylas</td>\n",
       "      <td>Samira</td>\n",
       "      <td>Blitzcrank</td>\n",
       "      <td>Lucian</td>\n",
       "      <td>Lillia</td>\n",
       "      <td>Lulu</td>\n",
       "      <td>Caitlyn</td>\n",
       "      <td>Alistar</td>\n",
       "    </tr>\n",
       "    <tr>\n",
       "      <th>8</th>\n",
       "      <td>25m 38s</td>\n",
       "      <td>Defeat</td>\n",
       "      <td>Shen</td>\n",
       "      <td>Lillia</td>\n",
       "      <td>Samira</td>\n",
       "      <td>Lucian</td>\n",
       "      <td>Soraka</td>\n",
       "      <td>Taric</td>\n",
       "      <td>Master Yi</td>\n",
       "      <td>Riven</td>\n",
       "      <td>Ezreal</td>\n",
       "      <td>Lulu</td>\n",
       "    </tr>\n",
       "    <tr>\n",
       "      <th>9</th>\n",
       "      <td>25m 38s</td>\n",
       "      <td>Defeat</td>\n",
       "      <td>Ornn</td>\n",
       "      <td>Graves</td>\n",
       "      <td>Sylas</td>\n",
       "      <td>Lucian</td>\n",
       "      <td>Alistar</td>\n",
       "      <td>Irelia</td>\n",
       "      <td>Hecarim</td>\n",
       "      <td>Akali</td>\n",
       "      <td>Senna</td>\n",
       "      <td>Leona</td>\n",
       "    </tr>\n",
       "  </tbody>\n",
       "</table>\n",
       "</div>"
      ],
      "text/plain": [
       "  game_length   result      top1             jg1     mid1     adc1  \\\n",
       "0     25m 38s  Victory     Riven         Nidalee    Galio     Jhin   \n",
       "1     25m 38s   Defeat     Teemo         Nidalee   Lucian  Caitlyn   \n",
       "2     25m 38s   Defeat  Malphite            Olaf  Taliyah   Ezreal   \n",
       "3     25m 38s   Defeat     Neeko            Shen  Orianna   Kai'Sa   \n",
       "4     25m 38s   Defeat     Fiora  Nunu & Willump   Irelia     Jhin   \n",
       "5     25m 38s   Defeat    Irelia         Karthus    Sylas   Samira   \n",
       "6     25m 38s   Defeat     Galio         Kindred   Syndra   Ezreal   \n",
       "7     25m 38s   Defeat     Poppy            Ekko    Sylas   Samira   \n",
       "8     25m 38s   Defeat      Shen          Lillia   Samira   Lucian   \n",
       "9     25m 38s   Defeat      Ornn          Graves    Sylas   Lucian   \n",
       "\n",
       "         sup1      top2           jg2          mid2          adc2      sup2  \n",
       "0    Pantheon   Camille          Olaf    Cassiopeia        Ezreal   Alistar  \n",
       "1       Senna    Irelia       Hecarim    Cassiopeia          Jinx      Lulu  \n",
       "2     Alistar     Sylas        Lillia        Lucian         Senna  Pantheon  \n",
       "3    Nautilus     Riven       Hecarim    Cassiopeia        Samira   Morgana  \n",
       "4       Karma  Renekton         Elise          Kled          Jinx   Morgana  \n",
       "5    Nautilus     Riven          Kayn         Akali  Miss Fortune     Galio  \n",
       "6  Blitzcrank   Camille  Fiddlesticks  Twisted Fate          Jhin   Morgana  \n",
       "7  Blitzcrank    Lucian        Lillia          Lulu       Caitlyn   Alistar  \n",
       "8      Soraka     Taric     Master Yi         Riven        Ezreal      Lulu  \n",
       "9     Alistar    Irelia       Hecarim         Akali         Senna     Leona  "
      ]
     },
     "execution_count": 193,
     "metadata": {},
     "output_type": "execute_result"
    }
   ],
   "source": [
    "data.head(10)\n"
   ]
  },
  {
   "cell_type": "code",
   "execution_count": 194,
   "metadata": {
    "scrolled": false
   },
   "outputs": [],
   "source": [
    "from sklearn.preprocessing import OneHotEncoder\n",
    "#y = pd.get_dummies(data.top1, prefix='top1')\n",
    "enc = OneHotEncoder()\n",
    "only_champs = data.drop(columns=['game_length', 'result'])\n",
    "only_champs.head(5)\n",
    "only_champs_onehot = enc.fit_transform(only_champs)\n"
   ]
  },
  {
   "cell_type": "code",
   "execution_count": 195,
   "metadata": {
    "scrolled": true
   },
   "outputs": [
    {
     "data": {
      "text/plain": [
       "{'categories': 'auto',\n",
       " 'drop': None,\n",
       " 'dtype': numpy.float64,\n",
       " 'handle_unknown': 'error',\n",
       " 'sparse': True}"
      ]
     },
     "execution_count": 195,
     "metadata": {},
     "output_type": "execute_result"
    }
   ],
   "source": [
    "# print(only_champs_onehot)\n",
    "enc.get_params()"
   ]
  },
  {
   "cell_type": "code",
   "execution_count": 197,
   "metadata": {
    "scrolled": true
   },
   "outputs": [],
   "source": [
    "# Convert game_length to float and normalize\n",
    "import re\n",
    "date_str = data.game_length\n",
    "m = 2717 #longest games are 45m 17s\n",
    "\n",
    "for i in range(len(date_str)):\n",
    "    if type(date_str[i]) == str:\n",
    "        p = re.compile('\\d*')\n",
    "        min = float(p.findall(date_str[i][:2])[0])\n",
    "        temp = p.findall(date_str[i][-3:])\n",
    "        for j in temp:\n",
    "            if j != '':\n",
    "                sec = float(j)\n",
    "                break\n",
    "        date_str[i] = (60*min+sec)/m\n",
    "    else: \n",
    "        date_str[i] = date_str[i]/m\n",
    "#     print(date_str[i])\n",
    "# print(len(date_str))"
   ]
  },
  {
   "cell_type": "code",
   "execution_count": 198,
   "metadata": {},
   "outputs": [
    {
     "name": "stdout",
     "output_type": "stream",
     "text": [
      "(4028, 754)\n",
      "(4028,)\n"
     ]
    }
   ],
   "source": [
    "# Now we have the X we want\n",
    "#except_champs = data.drop(columns=['result','top1','jg1','mid1','adc1','sup1','top2','jg2','mid2','adc2','sup2'])\n",
    "sparse_to_df = pd.DataFrame.sparse.from_spmatrix(only_champs_onehot)\n",
    "print(sparse_to_df.shape)\n",
    "print(date_str.shape)\n",
    "\n",
    "X = date_str.to_frame().join(sparse_to_df).dropna()\n",
    "X = np.asarray(X).astype('float32')"
   ]
  },
  {
   "cell_type": "code",
   "execution_count": 199,
   "metadata": {},
   "outputs": [],
   "source": [
    "y = data['result']\n",
    "for i in range(len(y)):\n",
    "    if y[i] == \"Victory\":\n",
    "        y[i] = 1\n",
    "    else:\n",
    "        y[i] = 0"
   ]
  },
  {
   "cell_type": "code",
   "execution_count": 200,
   "metadata": {},
   "outputs": [],
   "source": [
    "y = np.asarray(y).astype('float32')"
   ]
  },
  {
   "cell_type": "markdown",
   "metadata": {},
   "source": [
    "## Datas are one hot encoded and cleaned up. Let's train test split"
   ]
  },
  {
   "cell_type": "code",
   "execution_count": 201,
   "metadata": {},
   "outputs": [
    {
     "name": "stdout",
     "output_type": "stream",
     "text": [
      "(2577,)\n",
      "(2577, 755)\n"
     ]
    }
   ],
   "source": [
    "from sklearn.model_selection import train_test_split\n",
    "import math\n",
    "\n",
    "X_train_full, X_test, y_train_full, y_test = train_test_split(X,y,test_size=0.2, random_state=42)\n",
    "#len(X_train) = 3222\n",
    "l = math.floor(3222*0.8)\n",
    "X_valid, X_train = X_train_full[:l], X_train_full[l:]\n",
    "y_valid, y_train = y_train_full[:l], y_train_full[l:]\n",
    "print(y_valid.shape)\n",
    "print(X_valid.shape)\n"
   ]
  },
  {
   "cell_type": "markdown",
   "metadata": {},
   "source": [
    "## Let's try Neural Network with dropouts"
   ]
  },
  {
   "cell_type": "code",
   "execution_count": 202,
   "metadata": {},
   "outputs": [],
   "source": [
    "model = keras.models.Sequential([\n",
    "    keras.layers.Flatten(input_shape=(755,)),\n",
    "    keras.layers.Dense(30, activation=\"relu\", name=\"layer_1\"),\n",
    "    keras.layers.Dropout(rate=0.2),\n",
    "    keras.layers.Dense(16, activation=\"relu\", name=\"layer_2\"),\n",
    "    keras.layers.Dropout(rate=0.2),\n",
    "    keras.layers.Dense(16, activation=\"relu\", name=\"layer_3\"),\n",
    "    keras.layers.Dropout(rate=0.2),\n",
    "    keras.layers.Dense(1, activation=\"sigmoid\", name=\"layer_4\")\n",
    "])"
   ]
  },
  {
   "cell_type": "code",
   "execution_count": 203,
   "metadata": {},
   "outputs": [
    {
     "name": "stdout",
     "output_type": "stream",
     "text": [
      "Model: \"sequential\"\n",
      "_________________________________________________________________\n",
      "Layer (type)                 Output Shape              Param #   \n",
      "=================================================================\n",
      "flatten (Flatten)            (None, 755)               0         \n",
      "_________________________________________________________________\n",
      "layer_1 (Dense)              (None, 30)                22680     \n",
      "_________________________________________________________________\n",
      "dropout (Dropout)            (None, 30)                0         \n",
      "_________________________________________________________________\n",
      "layer_2 (Dense)              (None, 16)                496       \n",
      "_________________________________________________________________\n",
      "dropout_1 (Dropout)          (None, 16)                0         \n",
      "_________________________________________________________________\n",
      "layer_3 (Dense)              (None, 16)                272       \n",
      "_________________________________________________________________\n",
      "dropout_2 (Dropout)          (None, 16)                0         \n",
      "_________________________________________________________________\n",
      "layer_4 (Dense)              (None, 1)                 17        \n",
      "=================================================================\n",
      "Total params: 23,465\n",
      "Trainable params: 23,465\n",
      "Non-trainable params: 0\n",
      "_________________________________________________________________\n"
     ]
    }
   ],
   "source": [
    "model.compile(loss=\"binary_crossentropy\", optimizer=\"adam\", metrics=[\"accuracy\"])\n",
    "model.summary()"
   ]
  },
  {
   "cell_type": "code",
   "execution_count": 220,
   "metadata": {
    "scrolled": true
   },
   "outputs": [],
   "source": [
    "model.fit(X_train, y_train, epochs=50, batch_size=1)"
   ]
  },
  {
   "cell_type": "code",
   "execution_count": 205,
   "metadata": {},
   "outputs": [
    {
     "name": "stdout",
     "output_type": "stream",
     "text": [
      "26/26 [==============================] - 0s 806us/step - loss: 3.8032 - accuracy: 0.6613\n",
      "accuracy 0.6612903475761414\n"
     ]
    }
   ],
   "source": [
    "test_loss, test_acc = model.evaluate(X_test, y_test)\n",
    "print('accuracy', test_acc)"
   ]
  },
  {
   "cell_type": "markdown",
   "metadata": {},
   "source": [
    "We got about 0.661 accuracy with just raw neural network with dropouts."
   ]
  },
  {
   "cell_type": "markdown",
   "metadata": {},
   "source": [
    "## Let's try random forests"
   ]
  },
  {
   "cell_type": "code",
   "execution_count": 206,
   "metadata": {},
   "outputs": [
    {
     "data": {
      "text/plain": [
       "RandomForestClassifier(max_leaf_nodes=32, n_estimators=2000, n_jobs=-1)"
      ]
     },
     "execution_count": 206,
     "metadata": {},
     "output_type": "execute_result"
    }
   ],
   "source": [
    "from sklearn.ensemble import RandomForestClassifier\n",
    "\n",
    "rnd_clf = RandomForestClassifier(n_estimators=2000, max_leaf_nodes=32, n_jobs=-1)\n",
    "rnd_clf.fit(X_train, y_train)"
   ]
  },
  {
   "cell_type": "code",
   "execution_count": 207,
   "metadata": {},
   "outputs": [],
   "source": [
    "y_val_pred = rnd_clf.predict(X_valid)"
   ]
  },
  {
   "cell_type": "code",
   "execution_count": 208,
   "metadata": {},
   "outputs": [
    {
     "name": "stdout",
     "output_type": "stream",
     "text": [
      "validation accuracy: 0.7710516103996896\n"
     ]
    }
   ],
   "source": [
    "val_acc = np.sum(y_val_pred == y_valid)/len(y_valid)\n",
    "print(\"validation accuracy: \"+str(val_acc))\n"
   ]
  },
  {
   "cell_type": "code",
   "execution_count": 209,
   "metadata": {},
   "outputs": [
    {
     "name": "stdout",
     "output_type": "stream",
     "text": [
      "test accuracy: 0.7704714640198511\n"
     ]
    }
   ],
   "source": [
    "y_test_pred = rnd_clf.predict(X_test)\n",
    "test_acc = np.sum(y_test_pred == y_test)/len(y_test)\n",
    "print(\"test accuracy: \"+str(test_acc))"
   ]
  },
  {
   "cell_type": "markdown",
   "metadata": {},
   "source": [
    "Immediate improvement by almost 10% with random forest classifier!"
   ]
  },
  {
   "cell_type": "markdown",
   "metadata": {},
   "source": [
    "## Model Explanability"
   ]
  },
  {
   "cell_type": "markdown",
   "metadata": {},
   "source": [
    "Let's look at what we were mostly interested. What are some best team compositions!"
   ]
  },
  {
   "cell_type": "code",
   "execution_count": 210,
   "metadata": {},
   "outputs": [],
   "source": [
    "# import eli5\n",
    "# from eli5.sklearn import PermutationImportance\n",
    "# perm = PermutationImportance(rnd_clf, random_state=42).fit(X_valid, y_valid)\n",
    "# eli5.show_weights(perm, feature_names=X_valid.columns.tolist())\n",
    "# Will take billions years to compute"
   ]
  },
  {
   "cell_type": "markdown",
   "metadata": {},
   "source": [
    "## Let's try SHAP summary"
   ]
  },
  {
   "cell_type": "code",
   "execution_count": 211,
   "metadata": {},
   "outputs": [
    {
     "data": {
      "image/png": "[encoded data removed]",
      "text/plain": [
       "<Figure size 576x684 with 2 Axes>"
      ]
     },
     "metadata": {
      "needs_background": "light"
     },
     "output_type": "display_data"
    }
   ],
   "source": [
    "import shap\n",
    "\n",
    "explainer = shap.TreeExplainer(rnd_clf)\n",
    "shap_values = explainer.shap_values(X_valid)\n",
    "shap.summary_plot(shap_values[1], X_valid)"
   ]
  },
  {
   "cell_type": "markdown",
   "metadata": {},
   "source": [
    "- We see that feature 0 (game length) tells us that the game favors blue team winning more when game is shorter which is unexpected. Note that it it not significant at all since SHAP value is -0.02 ~ 0.4 at most.\n",
    "- Generally, since all the values are 0 are 1, we can see clear 1-red and 0-blue (When it's 0 it has no impact on the prediction)\n",
    "- We can see feature 156(blue Mid Akali) helped RED team win more\n",
    "- Whereas Feature 462(red Top Tryndamere) helps the BLUE team win significantly more haha\n",
    "- From this chart, we can clearly see that each champion has very consistent and predictable contribution to their team's chance of winning "
   ]
  },
  {
   "cell_type": "markdown",
   "metadata": {},
   "source": [
    "Note that\n",
    "- 119 Kindred blue jg\n",
    "- 638 Caitlyn red adc\n",
    "- 60 Renekton blue top\n",
    "- 162 Cassiopeia blue mid\n",
    "- 535 Akali red mid\n",
    "- 376 Thresh blue support\n",
    "- 471 Volibear red top\n",
    "- 31 Jax blue top\n",
    "- 654 Kalista red adc\n",
    "- 290 Miss Fortune blue adc\n",
    "- 259 Ashe blue adc\n",
    "- 360 Rakan blue support\n",
    "- 210 Orianna blue mid\n",
    "- 462 Tryndamere red top\n",
    "- 445 Riven red top\n",
    "- 425 Lucian red top\n",
    "- 715 Janna red support\n",
    "- 156 Akali blue mid\n",
    "- 72 Sylas blue top"
   ]
  },
  {
   "cell_type": "markdown",
   "metadata": {},
   "source": [
    "Therefore our best teamp comp impacting positively on winning is ...\n",
    "- (Top)Renekton/Jax/Sylas (Jg)Kindred (Mid) Cassiopeia/Orianna (Adc)MF/Ashe (Sup)Thresh/Rakan\n",
    "\n",
    "Meanwhile worst team comp impacting negatively on winning is ...\n",
    "- (Top)Volibear/Trynd/Riven/Lucian (Mid)Akali (Adc)Caitlyn/Kalista (Sup)Janna\n",
    "\n",
    "We can also note that Jg role seem to not matter much.. : )"
   ]
  },
  {
   "cell_type": "code",
   "execution_count": 212,
   "metadata": {},
   "outputs": [],
   "source": [
    "# function to find champ given feature number i\n",
    "def find_champ(i):\n",
    "    temp_list = [99,54,101,73,57,96,52,102,68,52]\n",
    "    for num in range(len(temp_list)):\n",
    "        if (i-temp_list[num] <= 0):\n",
    "            return enc.categories_[num][i-1]\n",
    "        else:\n",
    "            i = i-temp_list[num]"
   ]
  },
  {
   "cell_type": "code",
   "execution_count": 114,
   "metadata": {
    "scrolled": false
   },
   "outputs": [],
   "source": [
    "# Some things helpful converting sparse matrix into something we can comprehend\n",
    "# list_champ = [119, 638,60,162,535,376,471,31,654,290,259,360,210,462,445,425,715,156,72]\n",
    "# for champ in list_champ:\n",
    "#     lane = ''\n",
    "#     if champ <= 99 or 385<=champ<=480:\n",
    "#         lane = \"top\"\n",
    "#     elif 100 <= champ <=153 or 481<=champ<=532:\n",
    "#         lane = \"jg\"\n",
    "#     elif 154 <= champ <=255 or 533<=champ<=634:\n",
    "#         lane= \"mid\"\n",
    "#     elif 256 <= champ <=327 or 635<=champ<=702:\n",
    "#         lane= \"adc\"\n",
    "#     else:\n",
    "#         lane = \"support\"\n",
    "#     team = \"blue\" if champ <= 384 else \"red\"\n",
    "#     print(champ, find_champ(champ), team, lane)\n",
    "#print(len(enc.categories_[0]))    99\n",
    "#print(len(enc.categories_[1]))    54   //153\n",
    "#print(len(enc.categories_[2]))    101  //254\n",
    "#print(len(enc.categories_[3]))    73   //327\n",
    "#print(len(enc.categories_[4]))    57  // UP TO 384 is blue team\n",
    "#print(len(enc.categories_[5]))    96  //480\n",
    "#print(len(enc.categories_[6]))    52  //532\n",
    "#print(len(enc.categories_[7]))    102  //634\n",
    "#print(len(enc.categories_[8]))    68   //702\n",
    "#print(len(enc.categories_[9]))    52   //754"
   ]
  },
  {
   "cell_type": "markdown",
   "metadata": {},
   "source": [
    "## What if we didn't have game length, just champion compositions only?"
   ]
  },
  {
   "cell_type": "code",
   "execution_count": 214,
   "metadata": {},
   "outputs": [],
   "source": [
    "X_1 = sparse_to_df"
   ]
  },
  {
   "cell_type": "code",
   "execution_count": 215,
   "metadata": {},
   "outputs": [
    {
     "name": "stdout",
     "output_type": "stream",
     "text": [
      "(2577,)\n",
      "(2577, 754)\n"
     ]
    }
   ],
   "source": [
    "X_train_full, X_test, y_train_full, y_test = train_test_split(X_1,y,test_size=0.2, random_state=42)\n",
    "#len(X_train) = 3222\n",
    "l = math.floor(3222*0.8)\n",
    "X_valid, X_train = X_train_full[:l], X_train_full[l:]\n",
    "y_valid, y_train = y_train_full[:l], y_train_full[l:]\n",
    "print(y_valid.shape)\n",
    "print(X_valid.shape)"
   ]
  },
  {
   "cell_type": "code",
   "execution_count": 217,
   "metadata": {},
   "outputs": [
    {
     "data": {
      "text/plain": [
       "RandomForestClassifier(max_leaf_nodes=32, n_estimators=2000, n_jobs=-1)"
      ]
     },
     "execution_count": 217,
     "metadata": {},
     "output_type": "execute_result"
    }
   ],
   "source": [
    "rnd_clf = RandomForestClassifier(n_estimators=2000, max_leaf_nodes=32, n_jobs=-1)\n",
    "rnd_clf.fit(X_train, y_train)"
   ]
  },
  {
   "cell_type": "code",
   "execution_count": 218,
   "metadata": {},
   "outputs": [
    {
     "name": "stdout",
     "output_type": "stream",
     "text": [
      "validation accuracy: 0.7691113698098564\n"
     ]
    }
   ],
   "source": [
    "y_val_pred = rnd_clf.predict(X_valid)\n",
    "val_acc = np.sum(y_val_pred == y_valid)/len(y_valid)\n",
    "print(\"validation accuracy: \"+str(val_acc))"
   ]
  },
  {
   "cell_type": "code",
   "execution_count": 219,
   "metadata": {},
   "outputs": [
    {
     "name": "stdout",
     "output_type": "stream",
     "text": [
      "test accuracy: 0.7692307692307693\n"
     ]
    }
   ],
   "source": [
    "y_test_pred = rnd_clf.predict(X_test)\n",
    "test_acc = np.sum(y_test_pred == y_test)/len(y_test)\n",
    "print(\"test accuracy: \"+str(test_acc))"
   ]
  },
  {
   "cell_type": "markdown",
   "metadata": {},
   "source": [
    "Surprisingly, accuracy only drops less than 0.01. We can conclude that planning out a team comp based on champion's strength on early vs late game does not help win more. This can be explained by an example. Let's say I picked kayle which is the best late game champion. We may win games with longer duration more but will lose more short games due to her weakness early. So the overall win rate balances out."
   ]
  },
  {
   "cell_type": "markdown",
   "metadata": {},
   "source": [
    "## Conclusion"
   ]
  },
  {
   "cell_type": "markdown",
   "metadata": {},
   "source": [
    "- best: (Top)Renekton/Jax/Sylas (Jg)Kindred (Mid) Cassiopeia/Orianna (Adc)MF/Ashe (Sup)Thresh/Rakan \n",
    "- worst: (Top)Volibear/Trynd/Riven/Lucian (Mid)Akali (Adc)Caitlyn/Kalista (Sup)Janna "
   ]
  },
  {
   "cell_type": "markdown",
   "metadata": {},
   "source": [
    "We know that in the world of solo queue, picking the above champions will not gurantee a win. Sometimes people are autofilled, meaning they aren't playing on their best role. People may disconnect, resulting in games favoring the opposite team. There are too many unknown factors like this, making it impossible to predict 100% of the game outcomes correctly. "
   ]
  },
  {
   "cell_type": "markdown",
   "metadata": {},
   "source": [
    "As a former high elo NA player myself, I can say that generally, the 'best team' above have champions that doesn't get countered too often and is a good pick into anything. (This may not be the case for top because I've never really cared about top lanes as a support player :). But for 'worst team' champions, they are often easily countered. (Especially bottom lane) "
   ]
  },
  {
   "cell_type": "markdown",
   "metadata": {},
   "source": [
    "The biggest surprise was blue team wins more early and red team wins more late (Very slightly but certainly) for some reason. \n",
    "Also jg mattering the least was a surprise as well. "
   ]
  }
 ],
 "metadata": {
  "kernelspec": {
   "display_name": "Python 3",
   "language": "python",
   "name": "python3"
  },
  "language_info": {
   "codemirror_mode": {
    "name": "ipython",
    "version": 3
   },
   "file_extension": ".py",
   "mimetype": "text/x-python",
   "name": "python",
   "nbconvert_exporter": "python",
   "pygments_lexer": "ipython3",
   "version": "3.8.5"
  }
 },
 "nbformat": 4,
 "nbformat_minor": 4
}
